{
 "cells": [
  {
   "cell_type": "code",
   "execution_count": 4,
   "id": "53193c5b-0b30-4f76-bc7e-f7c147ac0bea",
   "metadata": {},
   "outputs": [],
   "source": [
    "import requests\n",
    "from bs4 import BeautifulSoup\n",
    "import pandas as pd\n",
    "from tqdm import tqdm"
   ]
  },
  {
   "cell_type": "code",
   "execution_count": 12,
   "id": "db7b7451-b5dc-4e78-a9b8-9dba050ddb4f",
   "metadata": {},
   "outputs": [
    {
     "name": "stderr",
     "output_type": "stream",
     "text": [
      "100%|██████████████████████████████████████████████████████████████████████████████████| 50/50 [01:58<00:00,  2.37s/it]\n"
     ]
    },
    {
     "data": {
      "text/plain": [
       "['Unbound: How Eight Technologies Made Us Human, Transformed Society, and Brought Our World to the Brink',\n",
       " '25.52',\n",
       " 'One',\n",
       " 'https://books.toscrape.com/catalogue/unbound-how-eight-technologies-made-us-human-transformed-society-and-brought-our-world-to-the-brink_950/index.html',\n",
       " 'https://books.toscrape.com/media/cache/4a/3b/4a3b055f9e378a95fedbef55e7bab7ce.jpg']"
      ]
     },
     "execution_count": 12,
     "metadata": {},
     "output_type": "execute_result"
    }
   ],
   "source": [
    "data = []\n",
    "\n",
    "for i in tqdm(range(1,51)):\n",
    "    res = requests.get('https://books.toscrape.com/catalogue/page-'+str(i)+'.html')\n",
    "    soup = BeautifulSoup(res.text , 'html.parser')\n",
    "    for sp in soup.find_all('li' , class_ = 'col-xs-6 col-sm-4 col-md-3 col-lg-3'):\n",
    "        price       = sp.find('p' ,class_  = 'price_color').text[2:]\n",
    "        rating      = sp.find('p').get('class')[-1]\n",
    "        title       = sp.find_all('a')[-1].get('title')\n",
    "        book_link   = 'https://books.toscrape.com/catalogue/'+sp.find('a').get('href')\n",
    "        img_link    = 'https://books.toscrape.com/'+sp.find('img').get('src')[3:]\n",
    "        data.append([title,price , rating , book_link , img_link])\n",
    "\n",
    "data[50]"
   ]
  },
  {
   "cell_type": "code",
   "execution_count": null,
   "id": "0b6b4dc2-5090-4702-9843-9bf84fa04164",
   "metadata": {},
   "outputs": [],
   "source": [
    "df = pd.DataFrame()"
   ]
  }
 ],
 "metadata": {
  "kernelspec": {
   "display_name": "Python 3 (ipykernel)",
   "language": "python",
   "name": "python3"
  },
  "language_info": {
   "codemirror_mode": {
    "name": "ipython",
    "version": 3
   },
   "file_extension": ".py",
   "mimetype": "text/x-python",
   "name": "python",
   "nbconvert_exporter": "python",
   "pygments_lexer": "ipython3",
   "version": "3.12.4"
  }
 },
 "nbformat": 4,
 "nbformat_minor": 5
}
