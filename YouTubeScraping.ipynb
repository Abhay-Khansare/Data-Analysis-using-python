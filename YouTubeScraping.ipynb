{
 "cells": [
  {
   "cell_type": "code",
   "execution_count": 8,
   "id": "692c4d6e-1835-400d-bf4c-aef483ef57af",
   "metadata": {},
   "outputs": [],
   "source": [
    "from selenium import webdriver\n",
    "from bs4 import BeautifulSoup\n",
    "import numpy as np"
   ]
  },
  {
   "cell_type": "code",
   "execution_count": 10,
   "id": "3cefb11d-1c31-4ca9-8383-620553dd3d75",
   "metadata": {},
   "outputs": [],
   "source": [
    "browser = webdriver.Chrome()\n",
    "browser.get('https://www.youtube.com/@KunalKushwaha/videos')"
   ]
  },
  {
   "cell_type": "code",
   "execution_count": 18,
   "id": "e9678477-da06-4053-b6da-65d1a9b56730",
   "metadata": {},
   "outputs": [],
   "source": [
    "soup = BeautifulSoup(browser.page_source,'html.parser')"
   ]
  },
  {
   "cell_type": "code",
   "execution_count": 50,
   "id": "fb99de0b-b46d-4c7f-a7fb-cbb9672000dc",
   "metadata": {},
   "outputs": [
    {
     "name": "stdout",
     "output_type": "stream",
     "text": [
      "10 hours ago\n"
     ]
    }
   ],
   "source": [
    "data = []\n",
    "for sp in soup.find_all('ytd-rich-item-renderer'):\n",
    "    try:\n",
    "        title=sp.find('a',id=\"video-title-link\").text\n",
    "    except:\n",
    "        np.nan\n",
    "    try:\n",
    "        link=sp.find('a',id=\"video-title-link\").get('href')\n",
    "    except:\n",
    "        np.nan\n",
    "    try:\n",
    "        views=sp.find('span',class_=\"inline-metadata-item style-scope ytd-video-meta-block\").text\n",
    "    except:\n",
    "        np.nan\n",
    "    try:\n",
    "        date=sp.find_all('span',class_ = 'inline-metadata-item style-scope ytd-video-meta-block')[1].text\n",
    "    except:\n",
    "        np.nan\n",
    "\n",
    "    \n",
    "    data.append(title, link, views, date)"
   ]
  },
  {
   "cell_type": "code",
   "execution_count": null,
   "id": "df65158d-3840-4c36-ae8d-75b1595908fc",
   "metadata": {},
   "outputs": [],
   "source": []
  },
  {
   "cell_type": "code",
   "execution_count": null,
   "id": "f277c065-e23d-4039-a7dd-1d23b058413a",
   "metadata": {},
   "outputs": [],
   "source": []
  }
 ],
 "metadata": {
  "kernelspec": {
   "display_name": "Python 3 (ipykernel)",
   "language": "python",
   "name": "python3"
  },
  "language_info": {
   "codemirror_mode": {
    "name": "ipython",
    "version": 3
   },
   "file_extension": ".py",
   "mimetype": "text/x-python",
   "name": "python",
   "nbconvert_exporter": "python",
   "pygments_lexer": "ipython3",
   "version": "3.12.4"
  }
 },
 "nbformat": 4,
 "nbformat_minor": 5
}
