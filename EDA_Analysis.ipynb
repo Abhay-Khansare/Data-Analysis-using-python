{
 "cells": [
  {
   "cell_type": "code",
   "execution_count": 24,
   "id": "8315671d-83b8-471c-a80e-d119dcb88a64",
   "metadata": {},
   "outputs": [],
   "source": [
    "import pandas as pd\n",
    "import numpy as np\n",
    "import seaborn as sns"
   ]
  },
  {
   "cell_type": "code",
   "execution_count": 26,
   "id": "8efc067d-aed9-4f43-88a1-05698ce6fea6",
   "metadata": {},
   "outputs": [],
   "source": [
    "df = pd.read_csv(\"Purchase_slip.csv\")"
   ]
  },
  {
   "cell_type": "code",
   "execution_count": 6,
   "id": "0f53f222-f399-4913-8e79-ca78344ee69c",
   "metadata": {},
   "outputs": [
    {
     "data": {
      "text/plain": [
       "(2, 6)"
      ]
     },
     "execution_count": 6,
     "metadata": {},
     "output_type": "execute_result"
    }
   ],
   "source": [
    "## Dimension of Datal:\n",
    "df.shape"
   ]
  },
  {
   "cell_type": "code",
   "execution_count": 31,
   "id": "f6c5b52d-e9ee-4b28-a75e-e6ff0e270b45",
   "metadata": {},
   "outputs": [
    {
     "data": {
      "text/html": [
       "<div>\n",
       "<style scoped>\n",
       "    .dataframe tbody tr th:only-of-type {\n",
       "        vertical-align: middle;\n",
       "    }\n",
       "\n",
       "    .dataframe tbody tr th {\n",
       "        vertical-align: top;\n",
       "    }\n",
       "\n",
       "    .dataframe thead th {\n",
       "        text-align: right;\n",
       "    }\n",
       "</style>\n",
       "<table border=\"1\" class=\"dataframe\">\n",
       "  <thead>\n",
       "    <tr style=\"text-align: right;\">\n",
       "      <th></th>\n",
       "      <th>abhay</th>\n",
       "      <th>8830274959</th>\n",
       "      <th>I-Phone</th>\n",
       "      <th>100000</th>\n",
       "      <th>10</th>\n",
       "      <th>&lt;built-in function ctime&gt;</th>\n",
       "    </tr>\n",
       "  </thead>\n",
       "  <tbody>\n",
       "    <tr>\n",
       "      <th>1</th>\n",
       "      <td>akd</td>\n",
       "      <td>23435</td>\n",
       "      <td>I-Phone</td>\n",
       "      <td>100000</td>\n",
       "      <td>1</td>\n",
       "      <td>&lt;built-in function ctime&gt;</td>\n",
       "    </tr>\n",
       "  </tbody>\n",
       "</table>\n",
       "</div>"
      ],
      "text/plain": [
       "  abhay  8830274959  I-Phone     100000  10  <built-in function ctime>\n",
       "1   akd       23435  I-Phone     100000   1  <built-in function ctime>"
      ]
     },
     "execution_count": 31,
     "metadata": {},
     "output_type": "execute_result"
    }
   ],
   "source": [
    "# data look like\n",
    "#df.head()\n",
    "df.sample()"
   ]
  },
  {
   "cell_type": "code",
   "execution_count": 33,
   "id": "7108734f-e2a3-4d6b-993e-0a552a3ecbe6",
   "metadata": {},
   "outputs": [
    {
     "name": "stdout",
     "output_type": "stream",
     "text": [
      "<class 'pandas.core.frame.DataFrame'>\n",
      "RangeIndex: 2 entries, 0 to 1\n",
      "Data columns (total 6 columns):\n",
      " #   Column                     Non-Null Count  Dtype \n",
      "---  ------                     --------------  ----- \n",
      " 0   abhay                      2 non-null      object\n",
      " 1   8830274959                 2 non-null      int64 \n",
      " 2   I-Phone                    2 non-null      object\n",
      " 3   100000                     2 non-null      int64 \n",
      " 4   10                         2 non-null      int64 \n",
      " 5   <built-in function ctime>  2 non-null      object\n",
      "dtypes: int64(3), object(3)\n",
      "memory usage: 228.0+ bytes\n"
     ]
    }
   ],
   "source": [
    "# datatypes of colums:\n",
    "df.info()"
   ]
  },
  {
   "cell_type": "code",
   "execution_count": 35,
   "id": "b846d0db-e590-4be7-a0a1-ed2b33b72da5",
   "metadata": {},
   "outputs": [
    {
     "data": {
      "text/html": [
       "<div>\n",
       "<style scoped>\n",
       "    .dataframe tbody tr th:only-of-type {\n",
       "        vertical-align: middle;\n",
       "    }\n",
       "\n",
       "    .dataframe tbody tr th {\n",
       "        vertical-align: top;\n",
       "    }\n",
       "\n",
       "    .dataframe thead th {\n",
       "        text-align: right;\n",
       "    }\n",
       "</style>\n",
       "<table border=\"1\" class=\"dataframe\">\n",
       "  <thead>\n",
       "    <tr style=\"text-align: right;\">\n",
       "      <th></th>\n",
       "      <th>8830274959</th>\n",
       "      <th>100000</th>\n",
       "      <th>10</th>\n",
       "    </tr>\n",
       "  </thead>\n",
       "  <tbody>\n",
       "    <tr>\n",
       "      <th>count</th>\n",
       "      <td>2.000000e+00</td>\n",
       "      <td>2.000000</td>\n",
       "      <td>2.000000</td>\n",
       "    </tr>\n",
       "    <tr>\n",
       "      <th>mean</th>\n",
       "      <td>1.223479e+06</td>\n",
       "      <td>97000.000000</td>\n",
       "      <td>1.500000</td>\n",
       "    </tr>\n",
       "    <tr>\n",
       "      <th>std</th>\n",
       "      <td>1.697119e+06</td>\n",
       "      <td>4242.640687</td>\n",
       "      <td>0.707107</td>\n",
       "    </tr>\n",
       "    <tr>\n",
       "      <th>min</th>\n",
       "      <td>2.343500e+04</td>\n",
       "      <td>94000.000000</td>\n",
       "      <td>1.000000</td>\n",
       "    </tr>\n",
       "    <tr>\n",
       "      <th>25%</th>\n",
       "      <td>6.234570e+05</td>\n",
       "      <td>95500.000000</td>\n",
       "      <td>1.250000</td>\n",
       "    </tr>\n",
       "    <tr>\n",
       "      <th>50%</th>\n",
       "      <td>1.223479e+06</td>\n",
       "      <td>97000.000000</td>\n",
       "      <td>1.500000</td>\n",
       "    </tr>\n",
       "    <tr>\n",
       "      <th>75%</th>\n",
       "      <td>1.823501e+06</td>\n",
       "      <td>98500.000000</td>\n",
       "      <td>1.750000</td>\n",
       "    </tr>\n",
       "    <tr>\n",
       "      <th>max</th>\n",
       "      <td>2.423523e+06</td>\n",
       "      <td>100000.000000</td>\n",
       "      <td>2.000000</td>\n",
       "    </tr>\n",
       "  </tbody>\n",
       "</table>\n",
       "</div>"
      ],
      "text/plain": [
       "         8830274959         100000        10\n",
       "count  2.000000e+00       2.000000  2.000000\n",
       "mean   1.223479e+06   97000.000000  1.500000\n",
       "std    1.697119e+06    4242.640687  0.707107\n",
       "min    2.343500e+04   94000.000000  1.000000\n",
       "25%    6.234570e+05   95500.000000  1.250000\n",
       "50%    1.223479e+06   97000.000000  1.500000\n",
       "75%    1.823501e+06   98500.000000  1.750000\n",
       "max    2.423523e+06  100000.000000  2.000000"
      ]
     },
     "execution_count": 35,
     "metadata": {},
     "output_type": "execute_result"
    }
   ],
   "source": [
    "# mathematical look:\n",
    "df.describe()"
   ]
  },
  {
   "cell_type": "code",
   "execution_count": 37,
   "id": "8786174c-2ba8-4d8b-94ca-8d05086e36d7",
   "metadata": {},
   "outputs": [
    {
     "data": {
      "text/plain": [
       "abhay                        0\n",
       "8830274959                   0\n",
       "I-Phone                      0\n",
       "100000                       0\n",
       "10                           0\n",
       "<built-in function ctime>    0\n",
       "dtype: int64"
      ]
     },
     "execution_count": 37,
     "metadata": {},
     "output_type": "execute_result"
    }
   ],
   "source": [
    "# missing value:\n",
    "df.isnull().sum()"
   ]
  },
  {
   "cell_type": "code",
   "execution_count": 39,
   "id": "58b2d4bf-a0e4-44a6-88d2-712e4dcd3aa1",
   "metadata": {},
   "outputs": [
    {
     "data": {
      "text/plain": [
       "0"
      ]
     },
     "execution_count": 39,
     "metadata": {},
     "output_type": "execute_result"
    }
   ],
   "source": [
    "# duplicate Values:\n",
    "df.duplicated().sum()"
   ]
  },
  {
   "cell_type": "code",
   "execution_count": 41,
   "id": "4336235f-be48-4631-847f-2d5b9b263648",
   "metadata": {},
   "outputs": [
    {
     "data": {
      "text/plain": [
       "abhay                        2\n",
       "8830274959                   2\n",
       "I-Phone                      2\n",
       "100000                       2\n",
       "10                           2\n",
       "<built-in function ctime>    1\n",
       "dtype: int64"
      ]
     },
     "execution_count": 41,
     "metadata": {},
     "output_type": "execute_result"
    }
   ],
   "source": [
    "# Unique values:\n",
    "df.nunique()"
   ]
  },
  {
   "cell_type": "code",
   "execution_count": 47,
   "id": "0c7d874b-de3c-44e1-85fc-fc425665c00e",
   "metadata": {},
   "outputs": [
    {
     "data": {
      "text/plain": [
       "<Axes: >"
      ]
     },
     "execution_count": 47,
     "metadata": {},
     "output_type": "execute_result"
    },
    {
     "data": {
      "image/png": "[encoded data removed]",
      "text/plain": [
       "<Figure size 640x480 with 1 Axes>"
      ]
     },
     "metadata": {},
     "output_type": "display_data"
    }
   ],
   "source": [
    "sns.boxplot(df)  # spesific column is also used.\n"
   ]
  },
  {
   "cell_type": "code",
   "execution_count": 12,
   "id": "18fd1d0e-0e14-4030-b2d5-49cccaf58d21",
   "metadata": {},
   "outputs": [
    {
     "data": {
      "text/html": [
       "<div>\n",
       "<style scoped>\n",
       "    .dataframe tbody tr th:only-of-type {\n",
       "        vertical-align: middle;\n",
       "    }\n",
       "\n",
       "    .dataframe tbody tr th {\n",
       "        vertical-align: top;\n",
       "    }\n",
       "\n",
       "    .dataframe thead th {\n",
       "        text-align: right;\n",
       "    }\n",
       "</style>\n",
       "<table border=\"1\" class=\"dataframe\">\n",
       "  <thead>\n",
       "    <tr style=\"text-align: right;\">\n",
       "      <th></th>\n",
       "      <th>abhay</th>\n",
       "      <th>8830274959</th>\n",
       "      <th>I-Phone</th>\n",
       "      <th>100000</th>\n",
       "      <th>10</th>\n",
       "      <th>&lt;built-in function ctime&gt;</th>\n",
       "    </tr>\n",
       "  </thead>\n",
       "  <tbody>\n",
       "    <tr>\n",
       "      <th>0</th>\n",
       "      <td>abahay</td>\n",
       "      <td>2423523</td>\n",
       "      <td>Samsang</td>\n",
       "      <td>94000</td>\n",
       "      <td>2</td>\n",
       "      <td>&lt;built-in function ctime&gt;</td>\n",
       "    </tr>\n",
       "    <tr>\n",
       "      <th>1</th>\n",
       "      <td>akd</td>\n",
       "      <td>23435</td>\n",
       "      <td>I-Phone</td>\n",
       "      <td>100000</td>\n",
       "      <td>1</td>\n",
       "      <td>&lt;built-in function ctime&gt;</td>\n",
       "    </tr>\n",
       "  </tbody>\n",
       "</table>\n",
       "</div>"
      ],
      "text/plain": [
       "    abhay  8830274959  I-Phone     100000  10  <built-in function ctime>\n",
       "0  abahay     2423523  Samsang      94000   2  <built-in function ctime>\n",
       "1     akd       23435  I-Phone     100000   1  <built-in function ctime>"
      ]
     },
     "execution_count": 12,
     "metadata": {},
     "output_type": "execute_result"
    }
   ],
   "source": [
    "# Remove duplicate:\n",
    "df.drop_duplicates(\"abhay\",keep = 'last') # last duplicate will not removed."
   ]
  },
  {
   "cell_type": "markdown",
   "id": "13c2c66c-8b11-4f3b-9d0c-6006b3ea7db2",
   "metadata": {},
   "source": [
    "#### Outlier:\n",
    "It is observation in a given dataset that lies far from the rest of observation."
   ]
  },
  {
   "cell_type": "markdown",
   "id": "75cba9e2-7934-4e9d-8d10-f0cd7cd19af2",
   "metadata": {},
   "source": [
    "Removing outlier using Z-score"
   ]
  },
  {
   "cell_type": "code",
   "execution_count": 28,
   "id": "6f22a932-127f-4ec2-95dc-6b1bbca5867e",
   "metadata": {},
   "outputs": [],
   "source": [
    "df['z-score'] = (df['8830274959']-df['8830274959'].mean())/df['8830274959'].std()\n",
    "\n",
    "#std is standard deviation."
   ]
  },
  {
   "cell_type": "code",
   "execution_count": 30,
   "id": "605a5f0c-d1fe-4399-9f51-c6bd309ee2b6",
   "metadata": {},
   "outputs": [
    {
     "data": {
      "text/html": [
       "<div>\n",
       "<style scoped>\n",
       "    .dataframe tbody tr th:only-of-type {\n",
       "        vertical-align: middle;\n",
       "    }\n",
       "\n",
       "    .dataframe tbody tr th {\n",
       "        vertical-align: top;\n",
       "    }\n",
       "\n",
       "    .dataframe thead th {\n",
       "        text-align: right;\n",
       "    }\n",
       "</style>\n",
       "<table border=\"1\" class=\"dataframe\">\n",
       "  <thead>\n",
       "    <tr style=\"text-align: right;\">\n",
       "      <th></th>\n",
       "      <th>abhay</th>\n",
       "      <th>8830274959</th>\n",
       "      <th>I-Phone</th>\n",
       "      <th>100000</th>\n",
       "      <th>10</th>\n",
       "      <th>&lt;built-in function ctime&gt;</th>\n",
       "      <th>z-score</th>\n",
       "    </tr>\n",
       "  </thead>\n",
       "  <tbody>\n",
       "    <tr>\n",
       "      <th>0</th>\n",
       "      <td>abahay</td>\n",
       "      <td>2423523</td>\n",
       "      <td>Samsang</td>\n",
       "      <td>94000</td>\n",
       "      <td>2</td>\n",
       "      <td>&lt;built-in function ctime&gt;</td>\n",
       "      <td>0.707107</td>\n",
       "    </tr>\n",
       "    <tr>\n",
       "      <th>1</th>\n",
       "      <td>akd</td>\n",
       "      <td>23435</td>\n",
       "      <td>I-Phone</td>\n",
       "      <td>100000</td>\n",
       "      <td>1</td>\n",
       "      <td>&lt;built-in function ctime&gt;</td>\n",
       "      <td>-0.707107</td>\n",
       "    </tr>\n",
       "  </tbody>\n",
       "</table>\n",
       "</div>"
      ],
      "text/plain": [
       "    abhay  8830274959  I-Phone     100000  10  <built-in function ctime>  \\\n",
       "0  abahay     2423523  Samsang      94000   2  <built-in function ctime>   \n",
       "1     akd       23435  I-Phone     100000   1  <built-in function ctime>   \n",
       "\n",
       "    z-score  \n",
       "0  0.707107  \n",
       "1 -0.707107  "
      ]
     },
     "execution_count": 30,
     "metadata": {},
     "output_type": "execute_result"
    }
   ],
   "source": [
    "df"
   ]
  },
  {
   "cell_type": "markdown",
   "id": "feb48698-19bc-4efb-b129-a537edf04008",
   "metadata": {},
   "source": [
    "# Note\n",
    "\n",
    "where function:\n",
    "\n",
    "np.where(conditon , new_value , file(Where save updated value))\n",
    "\n",
    "------------\n",
    "\n",
    "To check is there any outlier , we use boxplot.\n",
    "\n",
    "use capping for large no. of rows.\n",
    "\n",
    "use treaming for less no. of rows."
   ]
  },
  {
   "cell_type": "markdown",
   "id": "26920da2-dd56-4b46-9bfe-98fd353d61c5",
   "metadata": {},
   "source": [
    "## Correcting the dataType of coloms\n",
    "#### Changing the dataType of colom :->\n",
    "df['id'].astype(\"new_data_type\")\n",
    "\n",
    "#### Changing to date_type \n",
    "df['colom_name'] = pandas.to_datetime(df['colom_name'])"
   ]
  },
  {
   "cell_type": "code",
   "execution_count": null,
   "id": "4f603a50-a788-43d2-b3df-2408a37508e6",
   "metadata": {},
   "outputs": [],
   "source": []
  }
 ],
 "metadata": {
  "kernelspec": {
   "display_name": "Python 3 (ipykernel)",
   "language": "python",
   "name": "python3"
  },
  "language_info": {
   "codemirror_mode": {
    "name": "ipython",
    "version": 3
   },
   "file_extension": ".py",
   "mimetype": "text/x-python",
   "name": "python",
   "nbconvert_exporter": "python",
   "pygments_lexer": "ipython3",
   "version": "3.12.4"
  }
 },
 "nbformat": 4,
 "nbformat_minor": 5
}
