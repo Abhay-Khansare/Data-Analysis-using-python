{
 "cells": [
  {
   "cell_type": "code",
   "execution_count": null,
   "id": "b48df638-b090-47f4-aeb4-68fb91e4d0df",
   "metadata": {},
   "outputs": [],
   "source": [
    "from selenium import webdriver\n",
    "from bs4 import BeautifulSoup\n",
    "import time\n",
    "from tqdm import tqdm\n",
    "import requests\n",
    "import pandas as pd"
   ]
  },
  {
   "cell_type": "code",
   "execution_count": null,
   "id": "0155569d-1641-4470-bc07-28125465be4f",
   "metadata": {},
   "outputs": [],
   "source": [
    "browser = webdriver.Chrome()"
   ]
  },
  {
   "cell_type": "code",
   "execution_count": null,
   "id": "190f0aa6-8935-4526-9622-bb01cb872674",
   "metadata": {},
   "outputs": [],
   "source": [
    "browser.get('https://stock-pictures.netlify.app')"
   ]
  },
  {
   "cell_type": "code",
   "execution_count": null,
   "id": "d8a55ee4-eab1-4aa5-aab3-b69c230f75b8",
   "metadata": {},
   "outputs": [],
   "source": [
    "for i in tqdm(range(0,1000000,1000)):\n",
    "    browser.execute_script(\"window.scrollTo(0 ,\"+str(i)+\")\")\n",
    "    time.sleep(.1)"
   ]
  },
  {
   "cell_type": "code",
   "execution_count": null,
   "id": "abdad8bf-69b4-4c5b-aa1a-dddc7e1124a9",
   "metadata": {},
   "outputs": [],
   "source": [
    "soup = BeautifulSoup( browser.page_source, 'html.parser')"
   ]
  },
  {
   "cell_type": "code",
   "execution_count": null,
   "id": "da1f30cc-5b45-4649-b7b7-3f6dc85d444d",
   "metadata": {},
   "outputs": [],
   "source": [
    "data = []\n",
    "for sp in tqdm(soup.find_all('div' , class_  = 'container')):\n",
    "    title    = sp.find('img').get('src').split('/')[-1]\n",
    "    img_link = sp.find('img').get('src')\n",
    "    tags     = ' '.join(list(set(sp.find('div' , class_ = 'tags').find('span').text[7:].split(','))))\n",
    "    likes    = sp.find('div', class_ = 'likes-comments').find_all('span')[0].text[:-6]\n",
    "    comments = sp.find('div', class_ = 'likes-comments').find_all('span')[1].text[:-9]\n",
    "    res = requests.get(img_link)\n",
    "    fh = open('Image/'+title+\".jpg\" , 'wb');\n",
    "    fh.write(res.content)\n",
    "    fh.close()\n",
    "    path = (str(\"Image/\"+title+\".jpg\"))\n",
    "    data.append( [ title , img_link , tags , likes , comments , ])"
   ]
  },
  {
   "cell_type": "code",
   "execution_count": null,
   "id": "646a6710-9342-434c-a78a-5c38bc3cd8dc",
   "metadata": {},
   "outputs": [],
   "source": [
    "df = pd.DataFrame(data , columns=['Title' , 'Img_link' , 'Tags' , 'Likes' , 'Comments' ])"
   ]
  },
  {
   "cell_type": "code",
   "execution_count": null,
   "id": "5be6e4bd-df6a-4ddf-9d98-d27dcc416dfb",
   "metadata": {},
   "outputs": [],
   "source": [
    "df.to_csv('ImageData.csv' , index = False)"
   ]
  }
 ],
 "metadata": {
  "kernelspec": {
   "display_name": "Python 3 (ipykernel)",
   "language": "python",
   "name": "python3"
  },
  "language_info": {
   "codemirror_mode": {
    "name": "ipython",
    "version": 3
   },
   "file_extension": ".py",
   "mimetype": "text/x-python",
   "name": "python",
   "nbconvert_exporter": "python",
   "pygments_lexer": "ipython3",
   "version": "3.12.4"
  }
 },
 "nbformat": 4,
 "nbformat_minor": 5
}
