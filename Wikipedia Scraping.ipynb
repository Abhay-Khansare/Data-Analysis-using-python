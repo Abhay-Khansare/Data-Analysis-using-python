{
 "cells": [
  {
   "cell_type": "code",
   "execution_count": 3,
   "id": "337a570e-2e0d-4696-8289-9bf2fde2b182",
   "metadata": {},
   "outputs": [],
   "source": [
    "import requests\n",
    "from bs4 import BeautifulSoup"
   ]
  },
  {
   "cell_type": "code",
   "execution_count": 5,
   "id": "3251875f-c1a2-4724-8f35-ed3d73e537a3",
   "metadata": {},
   "outputs": [
    {
     "name": "stdin",
     "output_type": "stream",
     "text": [
      "Enter name for wikipedia sam manekshaw\n"
     ]
    }
   ],
   "source": [
    "search = str(input(\"Enter name for wikipedia\")).replace(' ','+')\n",
    "link ='https://www.google.com/search?q='+search+'wikipedia'\n",
    "\n",
    "result = requests.get(link)\n",
    "res_soup  = BeautifulSoup(result.text,'html.parser')\n",
    "\n",
    "for i in res_soup.find_all('div'):\n",
    "    try:\n",
    "        new_link=i.find('a').get('href')\n",
    "        if ('en.wikipedia.org' in new_link):\n",
    "            break\n",
    "    except:\n",
    "        pass\n",
    "\n",
    "new_link = new_link[7:].split('&')[0]\n",
    "\n",
    "res = requests.get(new_link)\n",
    "soup = BeautifulSoup(res.text,'html.parser')\n",
    "\n",
    "title = soup.find('h1').text\n",
    "\n",
    "corpus=\"\"\n",
    "for p in soup.find_all('p'):\n",
    "    corpus +=p.text\n",
    "    corpus_='\\n'\n",
    "corpus = corpus.strip()\n",
    "for i in range(0,500):\n",
    "    num = '['+str(i)+']'\n",
    "    corpus = corpus.replace(num,'')\n",
    "\n",
    "fd = open(title+'.txt','w+',encoding = 'utf8')\n",
    "fd.write(corpus)\n",
    "fd.close()"
   ]
  },
  {
   "cell_type": "code",
   "execution_count": null,
   "id": "6bc73877-c8d4-443d-a94f-bc4d3d0c9b73",
   "metadata": {},
   "outputs": [],
   "source": []
  }
 ],
 "metadata": {
  "kernelspec": {
   "display_name": "Python 3 (ipykernel)",
   "language": "python",
   "name": "python3"
  },
  "language_info": {
   "codemirror_mode": {
    "name": "ipython",
    "version": 3
   },
   "file_extension": ".py",
   "mimetype": "text/x-python",
   "name": "python",
   "nbconvert_exporter": "python",
   "pygments_lexer": "ipython3",
   "version": "3.12.4"
  }
 },
 "nbformat": 4,
 "nbformat_minor": 5
}
